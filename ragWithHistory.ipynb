{
 "cells": [
  {
   "cell_type": "code",
   "execution_count": 1,
   "metadata": {},
   "outputs": [],
   "source": [
    "from langchain_community.llms import Ollama\n",
    "\n",
    "llm = Ollama(model=\"mistral\")"
   ]
  },
  {
   "cell_type": "code",
   "execution_count": 2,
   "metadata": {},
   "outputs": [
    {
     "data": {
      "text/plain": [
       "' \"Be the change you wish to see in the world.\" - Mahatma Gandhi'"
      ]
     },
     "execution_count": 2,
     "metadata": {},
     "output_type": "execute_result"
    }
   ],
   "source": [
    "llm.invoke(\"tell me a short quote from someone great\")"
   ]
  },
  {
   "cell_type": "code",
   "execution_count": 3,
   "metadata": {},
   "outputs": [],
   "source": [
    "from langchain_community.document_loaders import WebBaseLoader\n",
    "loader = WebBaseLoader(\n",
    "    web_path = \"https://www.langchain.com/langsmith\"\n",
    ")\n",
    "\n",
    "docs = loader.load()"
   ]
  },
  {
   "cell_type": "code",
   "execution_count": 4,
   "metadata": {},
   "outputs": [],
   "source": [
    "from langchain_text_splitters import RecursiveCharacterTextSplitter\n",
    "\n",
    "text_splitter = RecursiveCharacterTextSplitter(\n",
    "    chunk_size = 1000,\n",
    "    chunk_overlap = 200,\n",
    "    add_start_index = True\n",
    ")\n"
   ]
  },
  {
   "cell_type": "code",
   "execution_count": 5,
   "metadata": {},
   "outputs": [],
   "source": [
    "all_splits = text_splitter.split_documents(docs)"
   ]
  },
  {
   "cell_type": "code",
   "execution_count": 11,
   "metadata": {},
   "outputs": [],
   "source": [
    "from langchain_community import embeddings\n",
    "\n",
    "embedding = embeddings.OllamaEmbeddings(\n",
    "    model = \"nomic-embed-text\"\n",
    ")"
   ]
  },
  {
   "cell_type": "code",
   "execution_count": 12,
   "metadata": {},
   "outputs": [],
   "source": [
    "from langchain_community.vectorstores import Chroma\n",
    "vectorstore = Chroma.from_documents(\n",
    "    documents = all_splits,\n",
    "    embedding = embedding\n",
    ")"
   ]
  },
  {
   "cell_type": "code",
   "execution_count": 13,
   "metadata": {},
   "outputs": [],
   "source": [
    "retriever = vectorstore.as_retriever(\n",
    "    search_type = \"similarity\",\n",
    "    search_kwargs = {\"k\":10}\n",
    ")"
   ]
  },
  {
   "cell_type": "code",
   "execution_count": 15,
   "metadata": {},
   "outputs": [],
   "source": [
    "from langchain_core.prompts import ChatPromptTemplate, MessagesPlaceholder\n",
    "\n",
    "\n",
    "contextualize_q_system_prompt = \"\"\"Given a Chat History and the latest user question \\ \n",
    "which might reference context in the chat history, formulate a standalone question \\\n",
    "which can be understood without the chat history. Do NOT answer the question \\ \n",
    "just reformulate it if needed and otherwise return it as it is.\"\"\""
   ]
  },
  {
   "cell_type": "code",
   "execution_count": 17,
   "metadata": {},
   "outputs": [],
   "source": [
    "contextualize_q_prompt = ChatPromptTemplate.from_messages(\n",
    "    [\n",
    "        (\"system\", contextualize_q_system_prompt),\n",
    "        MessagesPlaceholder(variable_name=\"chat_history\"),\n",
    "        (\"human\", \"{question}\"),\n",
    "    ]\n",
    ")"
   ]
  },
  {
   "cell_type": "code",
   "execution_count": 18,
   "metadata": {},
   "outputs": [],
   "source": [
    "from langchain_core.output_parsers import StrOutputParser\n",
    "\n",
    "contextualize_q_chain = contextualize_q_prompt | llm | StrOutputParser()"
   ]
  },
  {
   "cell_type": "code",
   "execution_count": 19,
   "metadata": {},
   "outputs": [
    {
     "data": {
      "text/plain": [
       "' What do you mean by \"large\" in the context of a large language model?'"
      ]
     },
     "execution_count": 19,
     "metadata": {},
     "output_type": "execute_result"
    }
   ],
   "source": [
    "from langchain_core.messages import AIMessage, HumanMessage\n",
    "\n",
    "contextualize_q_chain.invoke(\n",
    "    {\n",
    "        \"chat_history\":[\n",
    "            HumanMessage(content = \"What Does LLM Stand For?\"),\n",
    "            AIMessage(content=\"Large language model\"),\n",
    "        ],\n",
    "        \"question\" : \"What ius meant by large ?\"\n",
    "    }\n",
    ")"
   ]
  },
  {
   "cell_type": "code",
   "execution_count": 1,
   "metadata": {},
   "outputs": [
    {
     "data": {
      "text/plain": [
       "AIMessage(content='This is content')"
      ]
     },
     "execution_count": 1,
     "metadata": {},
     "output_type": "execute_result"
    }
   ],
   "source": [
    "from langchain.schema import AIMessage, HumanMessage, SystemMessage\n",
    "\n",
    "AIMessage(content=\"This is content\")"
   ]
  },
  {
   "cell_type": "code",
   "execution_count": 2,
   "metadata": {},
   "outputs": [],
   "source": [
    "chat = []\n",
    "chat.append(AIMessage(content=\"this is content\"))"
   ]
  },
  {
   "cell_type": "code",
   "execution_count": 3,
   "metadata": {},
   "outputs": [
    {
     "data": {
      "text/plain": [
       "[AIMessage(content='this is content')]"
      ]
     },
     "execution_count": 3,
     "metadata": {},
     "output_type": "execute_result"
    }
   ],
   "source": [
    "chat"
   ]
  },
  {
   "cell_type": "code",
   "execution_count": 17,
   "metadata": {},
   "outputs": [
    {
     "data": {
      "text/plain": [
       "'human'"
      ]
     },
     "execution_count": 17,
     "metadata": {},
     "output_type": "execute_result"
    }
   ],
   "source": [
    "HumanMessage(content=\"content\").dict()['type']"
   ]
  },
  {
   "cell_type": "code",
   "execution_count": 24,
   "metadata": {},
   "outputs": [],
   "source": [
    "from langchain_community.document_loaders import CSVLoader\n",
    "from langchain.indexes import VectorstoreIndexCreator\n",
    "from langchain.chains import RetrievalQA\n",
    "from langchain_community.llms import OpenAI\n",
    "from dotenv import load_dotenv, find_dotenv\n",
    "import os\n",
    "import streamlit as st\n",
    "import io\n",
    "from langchain import hub\n",
    "from langchain_text_splitters import RecursiveCharacterTextSplitter\n",
    "from langchain_community import embeddings\n",
    "from langchain_community.vectorstores import Chroma\n",
    "from langchain_core.prompts import ChatPromptTemplate, MessagesPlaceholder\n",
    "from langchain.schema import AIMessage, HumanMessage, SystemMessage\n",
    "from langchain_community.llms import Ollama\n",
    "from langchain_core.runnables import RunnablePassthrough\n",
    "from langchain_core.output_parsers import StrOutputParser\n",
    "from langchain.chains import create_retrieval_chain\n",
    "from langchain.chains import create_history_aware_retriever\n",
    "from langchain_core.prompts import ChatPromptTemplate, MessagesPlaceholder\n",
    "from langchain.chains.combine_documents import create_stuff_documents_chain\n",
    "from langchain.embeddings.sentence_transformer import SentenceTransformerEmbeddings\n",
    "\n",
    "loader = CSVLoader(\"test.csv\")\n",
    "text_splitter = RecursiveCharacterTextSplitter(\n",
    "            chunk_size=1000, chunk_overlap=200, add_start_index=True\n",
    "        )\n",
    "docs = loader.load()\n",
    "# all_splits = text_splitter.split_documents(docs)\n",
    "embedding = embeddings.OllamaEmbeddings(model=\"nomic-embed-text\")\n",
    "vectorstore = Chroma.from_documents(documents=docs, embedding=embedding)"
   ]
  },
  {
   "cell_type": "code",
   "execution_count": 25,
   "metadata": {},
   "outputs": [],
   "source": [
    "retriever = vectorstore.as_retriever(search_type=\"similarity\", search_kwargs={\"k\": 10})"
   ]
  },
  {
   "cell_type": "code",
   "execution_count": 26,
   "metadata": {},
   "outputs": [
    {
     "data": {
      "text/plain": [
       "[Document(page_content='Number; Incident State; Active; Reassignment Count; Reopen Count; Sys Mod Count; Made SLA; Caller ID; Opened By; Opened At; Sys Created By; Sys Created At; Sys Updated By; Sys Updated At; Contact Type; Location; Category; Subcategory; U Symptom; CMDB CI; Impact; Urgency; Priority; Assignment Group; Assigned To; Knowledge; U Priority Confirmation; Notify; Problem ID; RFC; Vendor; Caused By; Closed Code; Resolved By; Resolved At; Incident Description; Notes: INC0000064; Closed; false;0;0;6; true; Caller 1034; Opened by 180; 29/2/2016 07:14; Created by 81; 29/2/2016 07:18; Updated by 908; 7/3/2016 15:00; Phone; Location 150; Category 10; Subcategory 77; Symptom 471; ?; 2 - Medium; 2 - Medium; 3 - Moderate; Group 60; Resolver 98; true; false; Do Not Notify; ?; ?; ?; code 6; Resolved by 61; 1/3/2016 07:21; 7/3/2016 15:00; Caller 1034 reported slow network performance. The issue was identified as a bandwidth bottleneck by Resolver 98. After optimizing network traffic and configuration', metadata={'row': 5, 'source': 'test.csv', 'start_index': 0}),\n",
       " Document(page_content='Number; Incident State; Active; Reassignment Count; Reopen Count; Sys Mod Count; Made SLA; Caller ID; Opened By; Opened At; Sys Created By; Sys Created At; Sys Updated By; Sys Updated At; Contact Type; Location; Category; Subcategory; U Symptom; CMDB CI; Impact; Urgency; Priority; Assignment Group; Assigned To; Knowledge; U Priority Confirmation; Notify; Problem ID; RFC; Vendor; Caused By; Closed Code; Resolved By; Resolved At; Incident Description; Notes: INC0000064; Closed; false;0;0;6; true; Caller 1034; Opened by 180; 29/2/2016 07:14; Created by 81; 29/2/2016 07:18; Updated by 908; 7/3/2016 15:00; Phone; Location 150; Category 10; Subcategory 77; Symptom 471; ?; 2 - Medium; 2 - Medium; 3 - Moderate; Group 60; Resolver 98; true; false; Do Not Notify; ?; ?; ?; code 6; Resolved by 61; 1/3/2016 07:21; 7/3/2016 15:00; Caller 1034 reported slow network performance. The issue was identified as a bandwidth bottleneck by Resolver 98. After optimizing network traffic and configuration adjustments;\" normal network performance was restored.\"\"\"\"\"', metadata={'row': 5, 'source': 'test.csv'}),\n",
       " Document(page_content='Number; Incident State; Active; Reassignment Count; Reopen Count; Sys Mod Count; Made SLA; Caller ID; Opened By; Opened At; Sys Created By; Sys Created At; Sys Updated By; Sys Updated At; Contact Type; Location; Category; Subcategory; U Symptom; CMDB CI; Impact; Urgency; Priority; Assignment Group; Assigned To; Knowledge; U Priority Confirmation; Notify; Problem ID; RFC; Vendor; Caused By; Closed Code; Resolved By; Resolved At; Incident Description; Notes: INC0000078; Closed; false;0;0;4; true; Caller 2790; Opened by 180; 29/2/2016 09:10; Created by 81; 29/2/2016 09:11; Updated by 908; 7/3/2016 04:00; Phone; Location 175; Category 20; Subcategory 125; Symptom 472; ?; 2 - Medium; 2 - Medium; 3 - Moderate; Group 70; Resolver 6; true; false; Do Not Notify; ?; ?; ?; code 10; Resolved by 5; 1/3/2016 02:53; 7/3/2016 04:00;Caller 2790 reported delays in email delivery. The issue was identified as a mail server configuration problem by Resolver 6. After reconfiguring the mail server;\" normal', metadata={'row': 12, 'source': 'test.csv', 'start_index': 0}),\n",
       " Document(page_content='Number; Incident State; Active; Reassignment Count; Reopen Count; Sys Mod Count; Made SLA; Caller ID; Opened By; Opened At; Sys Created By; Sys Created At; Sys Updated By; Sys Updated At; Contact Type; Location; Category; Subcategory; U Symptom; CMDB CI; Impact; Urgency; Priority; Assignment Group; Assigned To; Knowledge; U Priority Confirmation; Notify; Problem ID; RFC; Vendor; Caused By; Closed Code; Resolved By; Resolved At; Incident Description; Notes: INC0000078; Closed; false;0;0;4; true; Caller 2790; Opened by 180; 29/2/2016 09:10; Created by 81; 29/2/2016 09:11; Updated by 908; 7/3/2016 04:00; Phone; Location 175; Category 20; Subcategory 125; Symptom 472; ?; 2 - Medium; 2 - Medium; 3 - Moderate; Group 70; Resolver 6; true; false; Do Not Notify; ?; ?; ?; code 10; Resolved by 5; 1/3/2016 02:53; 7/3/2016 04:00;Caller 2790 reported delays in email delivery. The issue was identified as a mail server configuration problem by Resolver 6. After reconfiguring the mail server;\" normal email delivery was restored.\"\"\"\"\"', metadata={'row': 12, 'source': 'test.csv'}),\n",
       " Document(page_content='Number; Incident State; Active; Reassignment Count; Reopen Count; Sys Mod Count; Made SLA; Caller ID; Opened By; Opened At; Sys Created By; Sys Created At; Sys Updated By; Sys Updated At; Contact Type; Location; Category; Subcategory; U Symptom; CMDB CI; Impact; Urgency; Priority; Assignment Group; Assigned To; Knowledge; U Priority Confirmation; Notify; Problem ID; RFC; Vendor; Caused By; Closed Code; Resolved By; Resolved At; Incident Description; Notes: INC0000074; Closed; false;0;0;5; true; Caller 1034; Opened by 180; 29/2/2016 08:37; Created by 81; 29/2/2016 08:38; Updated by 908; 7/3/2016 10:00; Phone; Location 150; Category 23; Subcategory 133; Symptom 472; ?; 2 - Medium; 2 - Medium; 3 - Moderate; Group 17; Resolver 61; true; false; Do Not Notify; ?; ?; ?; code 4; Resolved by 123; 1/3/2016 06:10; 7/3/2016 10:00;Caller 1034 reported an application not responding error. The issue was resolved by restarting the application service;\" restoring normal functionality.\"\"\"\"\"', metadata={'row': 10, 'source': 'test.csv', 'start_index': 0}),\n",
       " Document(page_content='Number; Incident State; Active; Reassignment Count; Reopen Count; Sys Mod Count; Made SLA; Caller ID; Opened By; Opened At; Sys Created By; Sys Created At; Sys Updated By; Sys Updated At; Contact Type; Location; Category; Subcategory; U Symptom; CMDB CI; Impact; Urgency; Priority; Assignment Group; Assigned To; Knowledge; U Priority Confirmation; Notify; Problem ID; RFC; Vendor; Caused By; Closed Code; Resolved By; Resolved At; Incident Description; Notes: INC0000074; Closed; false;0;0;5; true; Caller 1034; Opened by 180; 29/2/2016 08:37; Created by 81; 29/2/2016 08:38; Updated by 908; 7/3/2016 10:00; Phone; Location 150; Category 23; Subcategory 133; Symptom 472; ?; 2 - Medium; 2 - Medium; 3 - Moderate; Group 17; Resolver 61; true; false; Do Not Notify; ?; ?; ?; code 4; Resolved by 123; 1/3/2016 06:10; 7/3/2016 10:00;Caller 1034 reported an application not responding error. The issue was resolved by restarting the application service;\" restoring normal functionality.\"\"\"\"\"', metadata={'row': 10, 'source': 'test.csv'}),\n",
       " Document(page_content='Number; Incident State; Active; Reassignment Count; Reopen Count; Sys Mod Count; Made SLA; Caller ID; Opened By; Opened At; Sys Created By; Sys Created At; Sys Updated By; Sys Updated At; Contact Type; Location; Category; Subcategory; U Symptom; CMDB CI; Impact; Urgency; Priority; Assignment Group; Assigned To; Knowledge; U Priority Confirmation; Notify; Problem ID; RFC; Vendor; Caused By; Closed Code; Resolved By; Resolved At; Incident Description; Notes: INC0000070; Closed; false;1;0;7; true; Caller 4416; Opened by 180; 29/2/2016 08:03; Created by 81; 29/2/2016 08:04; Updated by 908; 7/3/2016 05:00; Phone; Location 165; Category 20; Subcategory 125; Symptom 471; ?; 2 - Medium; 2 - Medium; 3 - Moderate; Group 70; Resolver 6; true; false; Do Not Notify; ?; ?; ?; code 4; Resolved by 5; 1/3/2016 02:57; 7/3/2016 05:00; Caller 4416 reported delays in email delivery. The issue was identified as a mail server configuration problem by Resolver 6. After reconfiguring the mail server;\" normal', metadata={'row': 7, 'source': 'test.csv', 'start_index': 0}),\n",
       " Document(page_content='Number; Incident State; Active; Reassignment Count; Reopen Count; Sys Mod Count; Made SLA; Caller ID; Opened By; Opened At; Sys Created By; Sys Created At; Sys Updated By; Sys Updated At; Contact Type; Location; Category; Subcategory; U Symptom; CMDB CI; Impact; Urgency; Priority; Assignment Group; Assigned To; Knowledge; U Priority Confirmation; Notify; Problem ID; RFC; Vendor; Caused By; Closed Code; Resolved By; Resolved At; Incident Description; Notes: INC0000081; Closed; false;0;0;5; true; Caller 4390; Opened by 180; 29/2/2016 09:42; Created by 81; 29/2/2016 09:43; Updated by 908; 7/3/2016 08:00; Phone; Location 28; Category 17; Subcategory 117; Symptom 471; ?; 2 - Medium; 2 - Medium; 3 - Moderate; Group 24; Resolver 61; true; false; Do Not Notify; ?; ?; ?; code 10; Resolved by 123; 1/3/2016 06:19; 7/3/2016 08:00;Caller 4390 reported delays in email delivery. The issue was identified as a mail server configuration problem by Resolver 61. After reconfiguring the mail server;\" normal email delivery was restored.\"\"\"\"\"', metadata={'row': 13, 'source': 'test.csv'}),\n",
       " Document(page_content='Number; Incident State; Active; Reassignment Count; Reopen Count; Sys Mod Count; Made SLA; Caller ID; Opened By; Opened At; Sys Created By; Sys Created At; Sys Updated By; Sys Updated At; Contact Type; Location; Category; Subcategory; U Symptom; CMDB CI; Impact; Urgency; Priority; Assignment Group; Assigned To; Knowledge; U Priority Confirmation; Notify; Problem ID; RFC; Vendor; Caused By; Closed Code; Resolved By; Resolved At; Incident Description; Notes: INC0000070; Closed; false;1;0;7; true; Caller 4416; Opened by 180; 29/2/2016 08:03; Created by 81; 29/2/2016 08:04; Updated by 908; 7/3/2016 05:00; Phone; Location 165; Category 20; Subcategory 125; Symptom 471; ?; 2 - Medium; 2 - Medium; 3 - Moderate; Group 70; Resolver 6; true; false; Do Not Notify; ?; ?; ?; code 4; Resolved by 5; 1/3/2016 02:57; 7/3/2016 05:00; Caller 4416 reported delays in email delivery. The issue was identified as a mail server configuration problem by Resolver 6. After reconfiguring the mail server;\" normal email delivery was restored.\"\"\"\"\"', metadata={'row': 7, 'source': 'test.csv'}),\n",
       " Document(page_content='Number; Incident State; Active; Reassignment Count; Reopen Count; Sys Mod Count; Made SLA; Caller ID; Opened By; Opened At; Sys Created By; Sys Created At; Sys Updated By; Sys Updated At; Contact Type; Location; Category; Subcategory; U Symptom; CMDB CI; Impact; Urgency; Priority; Assignment Group; Assigned To; Knowledge; U Priority Confirmation; Notify; Problem ID; RFC; Vendor; Caused By; Closed Code; Resolved By; Resolved At; Incident Description; Notes: INC0000071; Closed; false;0;0;6; true; Caller 4491; Opened by 180; 29/2/2016 08:11; Created by 81; 29/2/2016 08:13; Updated by 908; 7/3/2016 09:00; Phone; Location 204; Category 10; Subcategory 77; Symptom 471; ?; 2 - Medium; 2 - Medium; 3 - Moderate; Group 60; Resolver 98; true; false; Do Not Notify; ?; ?; ?; code 3; Resolved by 61; 1/3/2016 07:23; 7/3/2016 09:00;Caller 4491 reported slow network performance. The issue was identified as a bandwidth bottleneck by Resolver 98. After optimizing network traffic and configuration', metadata={'row': 8, 'source': 'test.csv', 'start_index': 0})]"
      ]
     },
     "execution_count": 26,
     "metadata": {},
     "output_type": "execute_result"
    }
   ],
   "source": [
    "retriever.get_relevant_documents(\"Hi how are you\")"
   ]
  },
  {
   "cell_type": "code",
   "execution_count": 39,
   "metadata": {},
   "outputs": [],
   "source": [
    "import pandas as pd\n",
    "import numpy as np\n",
    "from langchain.docstore.document import Document\n",
    "\n",
    "columns_to_embed = [\"Number\", \" Incident Description\", \" Notes\"]\n",
    "columns_to_metadata = [\n",
    "    \"Number\",\n",
    "    \" Incident State\",\n",
    "    \" Active\",\n",
    "    \" Reassignment Count\",\n",
    "    \" Reopen Count\",\n",
    "    \" Sys Mod Count\",\n",
    "    \" Made SLA\",\n",
    "    \" Caller ID\",\n",
    "    \" Opened By\",\n",
    "    \" Opened At\",\n",
    "    \" Sys Created By\",\n",
    "    \" Sys Created At\",\n",
    "    \" Sys Updated By\",\n",
    "    \" Sys Updated At\",\n",
    "    \" Contact Type\",\n",
    "    \" Location\",\n",
    "    \" Category\",\n",
    "    \" Subcategory\",\n",
    "    \" U Symptom\",\n",
    "    \" CMDB CI\",\n",
    "    \" Impact\",\n",
    "    \" Urgency\",\n",
    "    \" Priority\",\n",
    "    \" Assignment Group\",\n",
    "    \" Assigned To\",\n",
    "    \" Knowledge\",\n",
    "    \" U Priority Confirmation\",\n",
    "    \" Notify\",\n",
    "    \" Problem ID\",\n",
    "    \" RFC\",\n",
    "    \" Vendor\",\n",
    "    \" Caused By\",\n",
    "    \" Closed Code\",\n",
    "    \" Resolved By\",\n",
    "    \" Resolved At\",\n",
    "]\n",
    "\n",
    "docs = []\n",
    "df = pd.read_csv(\"test.csv\", sep=\";\")\n",
    "for index, row in df.iterrows():\n",
    "    to_metadata = {col: row[col] for col in columns_to_metadata if col in row}\n",
    "    values_to_embed = {k: row[k] for k in columns_to_embed if k in row}\n",
    "    to_embed = \"\\n\".join(\n",
    "        f\"{k.strip()}: {v.strip()}\" for k, v in values_to_embed.items()\n",
    "    )\n",
    "    newDoc = Document(page_content=to_embed, metadata=to_metadata)\n",
    "    docs.append(newDoc)"
   ]
  },
  {
   "cell_type": "code",
   "execution_count": 40,
   "metadata": {},
   "outputs": [
    {
     "data": {
      "text/plain": [
       "[Document(page_content='Number: INC0000045\\nIncident Description: The incident was initially reported as a network connectivity issue by Caller 2403. After investigation and troubleshooting by the assigned team (Resolved by 149)\\nNotes: it was determined that the issue stemmed from a misconfiguration in the router settings. The misconfiguration was corrected   restoring normal network connectivity.', metadata={'Number': 'INC0000045', ' Incident State': ' Closed', ' Active': ' false', ' Reassignment Count': 0, ' Reopen Count': 0, ' Sys Mod Count': 4, ' Made SLA': ' true', ' Caller ID': ' Caller 2403', ' Opened By': ' Opened by 8', ' Opened At': ' 29/2/2016 01:16', ' Sys Created By': ' Created by 6', ' Sys Created At': ' 29/2/2016 01:23', ' Sys Updated By': ' Updated by 908', ' Sys Updated At': ' 5/3/2016 12:00', ' Contact Type': ' Phone', ' Location': ' Location 143', ' Category': ' Category 55', ' Subcategory': ' Subcategory 170', ' U Symptom': ' Symptom 72', ' CMDB CI': ' ?', ' Impact': ' 2 - Medium', ' Urgency': ' 2 - Medium', ' Priority': ' 3 - Moderate', ' Assignment Group': ' Group 56', ' Assigned To': ' ?', ' Knowledge': ' true', ' U Priority Confirmation': ' false', ' Notify': ' Do Not Notify', ' Problem ID': ' ?', ' RFC': ' ?', ' Vendor': ' ?', ' Caused By': ' code 5', ' Closed Code': ' Resolved by 149', ' Resolved By': ' 29/2/2016 11:29', ' Resolved At': ' 5/3/2016 12:00'}),\n",
       " Document(page_content='Number: INC0000047\\nIncident Description: Caller 2403 reported frequent crashes of a software application. After several troubleshooting steps performed by Resolver 89 and Group 24\\nNotes: it was discovered that the issue was caused by a corrupted user profile. The user profile was reset  resolving the application crashing problem.', metadata={'Number': 'INC0000047', ' Incident State': ' Closed', ' Active': ' false', ' Reassignment Count': 1, ' Reopen Count': 0, ' Sys Mod Count': 8, ' Made SLA': ' true', ' Caller ID': ' Caller 2403', ' Opened By': ' Opened by 397', ' Opened At': ' 29/2/2016 04:40', ' Sys Created By': ' Created by 171', ' Sys Created At': ' 29/2/2016 04:57', ' Sys Updated By': ' Updated by 908', ' Sys Updated At': ' 6/3/2016 10:00', ' Contact Type': ' Phone', ' Location': ' Location 165', ' Category': ' Category 40', ' Subcategory': ' Subcategory 215', ' U Symptom': ' Symptom 471', ' CMDB CI': ' ?', ' Impact': ' 2 - Medium', ' Urgency': ' 2 - Medium', ' Priority': ' 3 - Moderate', ' Assignment Group': ' Group 24', ' Assigned To': ' Resolver 89', ' Knowledge': ' true', ' U Priority Confirmation': ' false', ' Notify': ' Do Not Notify', ' Problem ID': ' ?', ' RFC': ' ?', ' Vendor': ' ?', ' Caused By': ' code 5', ' Closed Code': ' Resolved by 81', ' Resolved By': ' 1/3/2016 09:52', ' Resolved At': ' 6/3/2016 10:00'}),\n",
       " Document(page_content='Number: INC0000057\\nIncident Description: Imaginary IT Incident: Email Delivery Delay\"\"\\nNotes: Caller 4416 reported delays in email delivery. The issue was identified as a misconfigured mail server setting by Resolver 6. Upon reconfiguration  normal email delivery was restored.', metadata={'Number': 'INC0000057', ' Incident State': ' Closed', ' Active': ' false', ' Reassignment Count': 0, ' Reopen Count': 0, ' Sys Mod Count': 6, ' Made SLA': ' true', ' Caller ID': ' Caller 4416', ' Opened By': ' Opened by 8', ' Opened At': ' 29/2/2016 06:10', ' Sys Created By': ' ?', ' Sys Created At': ' ?', ' Sys Updated By': ' Updated by 908', ' Sys Updated At': ' 6/3/2016 03:00', ' Contact Type': ' Phone', ' Location': ' Location 204', ' Category': ' Category 20', ' Subcategory': ' Subcategory 125', ' U Symptom': ' Symptom 471', ' CMDB CI': ' ?', ' Impact': ' 2 - Medium', ' Urgency': ' 2 - Medium', ' Priority': ' 3 - Moderate', ' Assignment Group': ' Group 70', ' Assigned To': ' Resolver 6', ' Knowledge': ' true', ' U Priority Confirmation': ' false', ' Notify': ' Do Not Notify', ' Problem ID': ' Problem ID 2', ' RFC': ' ?', ' Vendor': ' ?', ' Caused By': ' ?', ' Closed Code': ' code 10', ' Resolved By': ' Resolved by 5', ' Resolved At': ' 1/3/2016 02:55'}),\n",
       " Document(page_content='Number: INC0000060\\nIncident Description: Caller 4491 reported a server outage affecting multiple users. The issue was identified as a hardware failure by Resolver 125. The faulty hardware component was replaced\\nNotes: restoring server functionality.\"\"', metadata={'Number': 'INC0000060', ' Incident State': ' Closed', ' Active': ' false', ' Reassignment Count': 0, ' Reopen Count': 0, ' Sys Mod Count': 3, ' Made SLA': ' true', ' Caller ID': ' Caller 4491', ' Opened By': ' Opened by 180', ' Opened At': ' 29/2/2016 06:38', ' Sys Created By': ' Created by 81', ' Sys Created At': ' 29/2/2016 06:42', ' Sys Updated By': ' Updated by 908', ' Sys Updated At': ' 7/3/2016 13:00', ' Contact Type': ' Phone', ' Location': ' Location 204', ' Category': ' Category 9', ' Subcategory': ' Subcategory 97', ' U Symptom': ' Symptom 450', ' CMDB CI': ' ?', ' Impact': ' 2 - Medium', ' Urgency': ' 2 - Medium', ' Priority': ' 3 - Moderate', ' Assignment Group': ' Group 25', ' Assigned To': ' Resolver 125', ' Knowledge': ' true', ' U Priority Confirmation': ' false', ' Notify': ' Do Not Notify', ' Problem ID': ' ?', ' RFC': ' ?', ' Vendor': ' ?', ' Caused By': ' code 3', ' Closed Code': ' Resolved by 113', ' Resolved By': ' 2/3/2016 12:06', ' Resolved At': ' 7/3/2016 13:00'}),\n",
       " Document(page_content='Number: INC0000062\\nIncident Description: Caller 3765 reported a printer offline issue. Despite several troubleshooting attempts\\nNotes: the printer remained offline. The issue was resolved by restarting the print spooler service', metadata={'Number': 'INC0000062', ' Incident State': ' Closed', ' Active': ' false', ' Reassignment Count': 1, ' Reopen Count': 0, ' Sys Mod Count': 7, ' Made SLA': ' false', ' Caller ID': ' Caller 3765', ' Opened By': ' Opened by 180', ' Opened At': ' 29/2/2016 06:58', ' Sys Created By': ' Created by 81', ' Sys Created At': ' 29/2/2016 07:26', ' Sys Updated By': ' Updated by 908', ' Sys Updated At': ' 5/3/2016 16:00', ' Contact Type': ' Phone', ' Location': ' Location 93', ' Category': ' Category 53', ' Subcategory': ' Subcategory 168', ' U Symptom': ' Symptom 232', ' CMDB CI': ' ?', ' Impact': ' 2 - Medium', ' Urgency': ' 2 - Medium', ' Priority': ' 3 - Moderate', ' Assignment Group': ' Group 23', ' Assigned To': ' ?', ' Knowledge': ' true', ' U Priority Confirmation': ' false', ' Notify': ' Do Not Notify', ' Problem ID': ' ?', ' RFC': ' ?', ' Vendor': ' ?', ' Caused By': ' code 7', ' Closed Code': ' Resolved by 62', ' Resolved By': ' 29/2/2016 09:14', ' Resolved At': ' 5/3/2016 16:00'}),\n",
       " Document(page_content='Number: INC0000064\\nIncident Description: Caller 1034 reported slow network performance. The issue was identified as a bandwidth bottleneck by Resolver 98. After optimizing network traffic and configuration adjustments\\nNotes: normal network performance was restored.\"\"', metadata={'Number': 'INC0000064', ' Incident State': ' Closed', ' Active': ' false', ' Reassignment Count': 0, ' Reopen Count': 0, ' Sys Mod Count': 6, ' Made SLA': ' true', ' Caller ID': ' Caller 1034', ' Opened By': ' Opened by 180', ' Opened At': ' 29/2/2016 07:14', ' Sys Created By': ' Created by 81', ' Sys Created At': ' 29/2/2016 07:18', ' Sys Updated By': ' Updated by 908', ' Sys Updated At': ' 7/3/2016 15:00', ' Contact Type': ' Phone', ' Location': ' Location 150', ' Category': ' Category 10', ' Subcategory': ' Subcategory 77', ' U Symptom': ' Symptom 471', ' CMDB CI': ' ?', ' Impact': ' 2 - Medium', ' Urgency': ' 2 - Medium', ' Priority': ' 3 - Moderate', ' Assignment Group': ' Group 60', ' Assigned To': ' Resolver 98', ' Knowledge': ' true', ' U Priority Confirmation': ' false', ' Notify': ' Do Not Notify', ' Problem ID': ' ?', ' RFC': ' ?', ' Vendor': ' ?', ' Caused By': ' code 6', ' Closed Code': ' Resolved by 61', ' Resolved By': ' 1/3/2016 07:21', ' Resolved At': ' 7/3/2016 15:00'}),\n",
       " Document(page_content='Number: INC0000066\\nIncident Description: Caller 6163 reported an application not responding error. The issue was resolved by restarting the application service\\nNotes: restoring normal functionality.\"\"\"', metadata={'Number': 'INC0000066', ' Incident State': ' Closed', ' Active': ' false', ' Reassignment Count': 0, ' Reopen Count': 0, ' Sys Mod Count': 3, ' Made SLA': ' true', ' Caller ID': ' Caller 6163', ' Opened By': ' Opened by 19', ' Opened At': ' 29/2/2016 07:41', ' Sys Created By': ' Created by 81', ' Sys Created At': ' 29/2/2016 07:46', ' Sys Updated By': ' Updated by 908', ' Sys Updated At': ' 7/3/2016 14:00', ' Contact Type': ' Phone', ' Location': ' Location 189', ' Category': ' Category 18', ' Subcategory': ' Subcategory 108', ' U Symptom': ' Symptom 472', ' CMDB CI': ' ?', ' Impact': ' 2 - Medium', ' Urgency': ' 2 - Medium', ' Priority': ' 3 - Moderate', ' Assignment Group': ' Group 75', ' Assigned To': ' Resolver 88', ' Knowledge': ' true', ' U Priority Confirmation': ' false', ' Notify': ' Do Not Notify', ' Problem ID': ' ?', ' RFC': ' ?', ' Vendor': ' ?', ' Caused By': ' code 3', ' Closed Code': ' Resolved by 128', ' Resolved By': ' 1/3/2016 05:15', ' Resolved At': ' 7/3/2016 14:00'}),\n",
       " Document(page_content='Number: INC0000070\\nIncident Description: Caller 4416 reported delays in email delivery. The issue was identified as a mail server configuration problem by Resolver 6. After reconfiguring the mail server\\nNotes: normal email delivery was restored.\"\"', metadata={'Number': 'INC0000070', ' Incident State': ' Closed', ' Active': ' false', ' Reassignment Count': 1, ' Reopen Count': 0, ' Sys Mod Count': 7, ' Made SLA': ' true', ' Caller ID': ' Caller 4416', ' Opened By': ' Opened by 180', ' Opened At': ' 29/2/2016 08:03', ' Sys Created By': ' Created by 81', ' Sys Created At': ' 29/2/2016 08:04', ' Sys Updated By': ' Updated by 908', ' Sys Updated At': ' 7/3/2016 05:00', ' Contact Type': ' Phone', ' Location': ' Location 165', ' Category': ' Category 20', ' Subcategory': ' Subcategory 125', ' U Symptom': ' Symptom 471', ' CMDB CI': ' ?', ' Impact': ' 2 - Medium', ' Urgency': ' 2 - Medium', ' Priority': ' 3 - Moderate', ' Assignment Group': ' Group 70', ' Assigned To': ' Resolver 6', ' Knowledge': ' true', ' U Priority Confirmation': ' false', ' Notify': ' Do Not Notify', ' Problem ID': ' ?', ' RFC': ' ?', ' Vendor': ' ?', ' Caused By': ' code 4', ' Closed Code': ' Resolved by 5', ' Resolved By': ' 1/3/2016 02:57', ' Resolved At': ' 7/3/2016 05:00'}),\n",
       " Document(page_content='Number: INC0000071\\nIncident Description: Caller 4491 reported slow network performance. The issue was identified as a bandwidth bottleneck by Resolver 98. After optimizing network traffic and configuration adjustments\\nNotes: normal network performance was restored.\"\"', metadata={'Number': 'INC0000071', ' Incident State': ' Closed', ' Active': ' false', ' Reassignment Count': 0, ' Reopen Count': 0, ' Sys Mod Count': 6, ' Made SLA': ' true', ' Caller ID': ' Caller 4491', ' Opened By': ' Opened by 180', ' Opened At': ' 29/2/2016 08:11', ' Sys Created By': ' Created by 81', ' Sys Created At': ' 29/2/2016 08:13', ' Sys Updated By': ' Updated by 908', ' Sys Updated At': ' 7/3/2016 09:00', ' Contact Type': ' Phone', ' Location': ' Location 204', ' Category': ' Category 10', ' Subcategory': ' Subcategory 77', ' U Symptom': ' Symptom 471', ' CMDB CI': ' ?', ' Impact': ' 2 - Medium', ' Urgency': ' 2 - Medium', ' Priority': ' 3 - Moderate', ' Assignment Group': ' Group 60', ' Assigned To': ' Resolver 98', ' Knowledge': ' true', ' U Priority Confirmation': ' false', ' Notify': ' Do Not Notify', ' Problem ID': ' ?', ' RFC': ' ?', ' Vendor': ' ?', ' Caused By': ' code 3', ' Closed Code': ' Resolved by 61', ' Resolved By': ' 1/3/2016 07:23', ' Resolved At': ' 7/3/2016 09:00'}),\n",
       " Document(page_content='Number: INC0000073\\nIncident Description: Caller 2787 reported an application not responding error. The issue was resolved by restarting the application service\\nNotes: restoring normal functionality.\"\"', metadata={'Number': 'INC0000073', ' Incident State': ' Closed', ' Active': ' false', ' Reassignment Count': 0, ' Reopen Count': 0, ' Sys Mod Count': 7, ' Made SLA': ' true', ' Caller ID': ' Caller 2787', ' Opened By': ' Opened by 180', ' Opened At': ' 29/2/2016 08:27', ' Sys Created By': ' Created by 81', ' Sys Created At': ' 29/2/2016 08:28', ' Sys Updated By': ' Updated by 908', ' Sys Updated At': ' 6/3/2016 08:00', ' Contact Type': ' Phone', ' Location': ' Location 27', ' Category': ' Category 25', ' Subcategory': ' Subcategory 93', ' U Symptom': ' Symptom 472', ' CMDB CI': ' ?', ' Impact': ' 2 - Medium', ' Urgency': ' 2 - Medium', ' Priority': ' 3 - Moderate', ' Assignment Group': ' Group 61', ' Assigned To': ' Resolver 64', ' Knowledge': ' true', ' U Priority Confirmation': ' false', ' Notify': ' Do Not Notify', ' Problem ID': ' ?', ' RFC': ' ?', ' Vendor': ' ?', ' Caused By': ' code 10', ' Closed Code': ' Resolved by 91', ' Resolved By': ' 1/3/2016 04:02', ' Resolved At': ' 6/3/2016 08:00'}),\n",
       " Document(page_content='Number: INC0000074\\nIncident Description: Caller 1034 reported an application not responding error. The issue was resolved by restarting the application service\\nNotes: restoring normal functionality.\"\"', metadata={'Number': 'INC0000074', ' Incident State': ' Closed', ' Active': ' false', ' Reassignment Count': 0, ' Reopen Count': 0, ' Sys Mod Count': 5, ' Made SLA': ' true', ' Caller ID': ' Caller 1034', ' Opened By': ' Opened by 180', ' Opened At': ' 29/2/2016 08:37', ' Sys Created By': ' Created by 81', ' Sys Created At': ' 29/2/2016 08:38', ' Sys Updated By': ' Updated by 908', ' Sys Updated At': ' 7/3/2016 10:00', ' Contact Type': ' Phone', ' Location': ' Location 150', ' Category': ' Category 23', ' Subcategory': ' Subcategory 133', ' U Symptom': ' Symptom 472', ' CMDB CI': ' ?', ' Impact': ' 2 - Medium', ' Urgency': ' 2 - Medium', ' Priority': ' 3 - Moderate', ' Assignment Group': ' Group 17', ' Assigned To': ' Resolver 61', ' Knowledge': ' true', ' U Priority Confirmation': ' false', ' Notify': ' Do Not Notify', ' Problem ID': ' ?', ' RFC': ' ?', ' Vendor': ' ?', ' Caused By': ' code 4', ' Closed Code': ' Resolved by 123', ' Resolved By': ' 1/3/2016 06:10', ' Resolved At': ' 7/3/2016 10:00'}),\n",
       " Document(page_content='Number: INC0000076\\nIncident Description: Caller 3807 reported an application not responding error. The issue was resolved by restarting the application service\\nNotes: restoring normal functionality.\"\"', metadata={'Number': 'INC0000076', ' Incident State': ' Closed', ' Active': ' false', ' Reassignment Count': 0, ' Reopen Count': 0, ' Sys Mod Count': 5, ' Made SLA': ' true', ' Caller ID': ' Caller 3807', ' Opened By': ' Opened by 180', ' Opened At': ' 29/2/2016 08:53', ' Sys Created By': ' Created by 81', ' Sys Created At': ' 29/2/2016 08:54', ' Sys Updated By': ' Updated by 908', ' Sys Updated At': ' 7/3/2016 12:00', ' Contact Type': ' Phone', ' Location': ' Location 38', ' Category': ' Category 16', ' Subcategory': ' Subcategory 122', ' U Symptom': ' Symptom 472', ' CMDB CI': ' ?', ' Impact': ' 2 - Medium', ' Urgency': ' 2 - Medium', ' Priority': ' 3 - Moderate', ' Assignment Group': ' Group 65', ' Assigned To': ' Resolver 66', ' Knowledge': ' true', ' U Priority Confirmation': ' false', ' Notify': ' Do Not Notify', ' Problem ID': ' ?', ' RFC': ' ?', ' Vendor': ' ?', ' Caused By': ' code 3', ' Closed Code': ' Resolved by 122', ' Resolved By': ' 1/3/2016 07:47', ' Resolved At': ' 7/3/2016 12:00'}),\n",
       " Document(page_content='Number: INC0000078\\nIncident Description: Caller 2790 reported delays in email delivery. The issue was identified as a mail server configuration problem by Resolver 6. After reconfiguring the mail server\\nNotes: normal email delivery was restored.\"\"', metadata={'Number': 'INC0000078', ' Incident State': ' Closed', ' Active': ' false', ' Reassignment Count': 0, ' Reopen Count': 0, ' Sys Mod Count': 4, ' Made SLA': ' true', ' Caller ID': ' Caller 2790', ' Opened By': ' Opened by 180', ' Opened At': ' 29/2/2016 09:10', ' Sys Created By': ' Created by 81', ' Sys Created At': ' 29/2/2016 09:11', ' Sys Updated By': ' Updated by 908', ' Sys Updated At': ' 7/3/2016 04:00', ' Contact Type': ' Phone', ' Location': ' Location 175', ' Category': ' Category 20', ' Subcategory': ' Subcategory 125', ' U Symptom': ' Symptom 472', ' CMDB CI': ' ?', ' Impact': ' 2 - Medium', ' Urgency': ' 2 - Medium', ' Priority': ' 3 - Moderate', ' Assignment Group': ' Group 70', ' Assigned To': ' Resolver 6', ' Knowledge': ' true', ' U Priority Confirmation': ' false', ' Notify': ' Do Not Notify', ' Problem ID': ' ?', ' RFC': ' ?', ' Vendor': ' ?', ' Caused By': ' code 10', ' Closed Code': ' Resolved by 5', ' Resolved By': ' 1/3/2016 02:53', ' Resolved At': ' 7/3/2016 04:00'}),\n",
       " Document(page_content='Number: INC0000081\\nIncident Description: Caller 4390 reported delays in email delivery. The issue was identified as a mail server configuration problem by Resolver 61. After reconfiguring the mail server\\nNotes: normal email delivery was restored.\"\"', metadata={'Number': 'INC0000081', ' Incident State': ' Closed', ' Active': ' false', ' Reassignment Count': 0, ' Reopen Count': 0, ' Sys Mod Count': 5, ' Made SLA': ' true', ' Caller ID': ' Caller 4390', ' Opened By': ' Opened by 180', ' Opened At': ' 29/2/2016 09:42', ' Sys Created By': ' Created by 81', ' Sys Created At': ' 29/2/2016 09:43', ' Sys Updated By': ' Updated by 908', ' Sys Updated At': ' 7/3/2016 08:00', ' Contact Type': ' Phone', ' Location': ' Location 28', ' Category': ' Category 17', ' Subcategory': ' Subcategory 117', ' U Symptom': ' Symptom 471', ' CMDB CI': ' ?', ' Impact': ' 2 - Medium', ' Urgency': ' 2 - Medium', ' Priority': ' 3 - Moderate', ' Assignment Group': ' Group 24', ' Assigned To': ' Resolver 61', ' Knowledge': ' true', ' U Priority Confirmation': ' false', ' Notify': ' Do Not Notify', ' Problem ID': ' ?', ' RFC': ' ?', ' Vendor': ' ?', ' Caused By': ' code 10', ' Closed Code': ' Resolved by 123', ' Resolved By': ' 1/3/2016 06:19', ' Resolved At': ' 7/3/2016 08:00'})]"
      ]
     },
     "execution_count": 40,
     "metadata": {},
     "output_type": "execute_result"
    }
   ],
   "source": [
    "docs"
   ]
  },
  {
   "cell_type": "code",
   "execution_count": 37,
   "metadata": {},
   "outputs": [
    {
     "name": "stdout",
     "output_type": "stream",
     "text": [
      "Number is true\n",
      "Incident State is false\n",
      "Active is false\n",
      "Reassignment Count is false\n",
      "Reopen Count is false\n",
      "Sys Mod Count is false\n",
      "Made SLA is false\n",
      "Caller ID is false\n",
      "Opened By is false\n",
      "Opened At is false\n",
      "Sys Created By is false\n",
      "Sys Created At is false\n",
      "Sys Updated By is false\n",
      "Sys Updated At is false\n",
      "Contact Type is false\n",
      "Location is false\n",
      "Category is false\n",
      "Subcategory is false\n",
      "U Symptom is false\n",
      "CMDB CI is false\n",
      "Impact is false\n",
      "Urgency is false\n",
      "Priority is false\n",
      "Assignment Group is false\n",
      "Assigned To is false\n",
      "Knowledge is false\n",
      "U Priority Confirmation is false\n",
      "Notify is false\n",
      "Problem ID is false\n",
      "RFC is false\n",
      "Vendor is false\n",
      "Caused By is false\n",
      "Closed Code is false\n",
      "Resolved By is false\n",
      "Resolved At is false\n"
     ]
    }
   ],
   "source": [
    "for i in columns_to_metadata:\n",
    "    if i in df.columns.to_list():\n",
    "        print(f\"{i} is true\")\n",
    "    else:\n",
    "        print(f\"{i} is false\")"
   ]
  },
  {
   "cell_type": "code",
   "execution_count": 38,
   "metadata": {},
   "outputs": [
    {
     "data": {
      "text/plain": [
       "['Number',\n",
       " ' Incident State',\n",
       " ' Active',\n",
       " ' Reassignment Count',\n",
       " ' Reopen Count',\n",
       " ' Sys Mod Count',\n",
       " ' Made SLA',\n",
       " ' Caller ID',\n",
       " ' Opened By',\n",
       " ' Opened At',\n",
       " ' Sys Created By',\n",
       " ' Sys Created At',\n",
       " ' Sys Updated By',\n",
       " ' Sys Updated At',\n",
       " ' Contact Type',\n",
       " ' Location',\n",
       " ' Category',\n",
       " ' Subcategory',\n",
       " ' U Symptom',\n",
       " ' CMDB CI',\n",
       " ' Impact',\n",
       " ' Urgency',\n",
       " ' Priority',\n",
       " ' Assignment Group',\n",
       " ' Assigned To',\n",
       " ' Knowledge',\n",
       " ' U Priority Confirmation',\n",
       " ' Notify',\n",
       " ' Problem ID',\n",
       " ' RFC',\n",
       " ' Vendor',\n",
       " ' Caused By',\n",
       " ' Closed Code',\n",
       " ' Resolved By',\n",
       " ' Resolved At',\n",
       " ' Incident Description',\n",
       " ' Notes']"
      ]
     },
     "execution_count": 38,
     "metadata": {},
     "output_type": "execute_result"
    }
   ],
   "source": [
    "df.columns.tolist()"
   ]
  },
  {
   "cell_type": "code",
   "execution_count": 9,
   "metadata": {},
   "outputs": [
    {
     "name": "stdout",
     "output_type": "stream",
     "text": [
      "{\"object\":\"error\",\"message\":\"[{'type': 'json_invalid', 'loc': ('body', 0), 'msg': 'JSON decode error', 'input': {}, 'ctx': {'error': 'Expecting value'}}]\",\"type\":\"BadRequestError\",\"param\":null,\"code\":400}\n"
     ]
    },
    {
     "name": "stderr",
     "output_type": "stream",
     "text": [
      "  % Total    % Received % Xferd  Average Speed   Time    Time     Time  Current\n",
      "                                 Dload  Upload   Total   Spent    Left  Speed\n",
      "\n",
      "  0     0    0     0    0     0      0      0 --:--:-- --:--:-- --:--:--     0\n",
      "100   212  100   204  100     8    262     10 --:--:-- --:--:-- --:--:--   274\n",
      "100   212  100   204  100     8    262     10 --:--:-- --:--:-- --:--:--   274\n",
      "  % Total    % Received % Xferd  Average Speed   Time    Time     Time  Current\n",
      "                                 Dload  Upload   Total   Spent    Left  Speed\n",
      "\n",
      "  0     0    0     0    0     0      0      0 --:--:-- --:--:-- --:--:--     0\n",
      "  0     0    0     0    0     0      0      0 --:--:-- --:--:-- --:--:--     0\n",
      "  0     0    0     0    0     0      0      0 --:--:--  0:00:01 --:--:--     0curl: (6) Could not resolve host: facebook\n",
      "curl: (3) URL rejected: Malformed input to a URL function\n",
      "curl: (3) URL rejected: Port number was not a decimal number between 0 and 65535\n",
      "curl: (3) URL rejected: Bad hostname\n",
      "curl: (3) URL rejected: Port number was not a decimal number between 0 and 65535\n",
      "curl: (3) unmatched close brace/bracket in URL position 4:\n",
      "0.8}'\n",
      "   ^\n"
     ]
    }
   ],
   "source": [
    "\n",
    "!curl -X POST https://polite-papayas-bathe.loca.lt/v1/completions \\\n",
    "-H \"Content-Type: application/json\" \\\n",
    "-d '{\"model\": \"facebook/opt-125m\",\"prompt\": \"Abidjan is located in\", \"max_tokens\": 50, \"temperature\": 0.8}'\n"
   ]
  },
  {
   "cell_type": "code",
   "execution_count": 28,
   "metadata": {},
   "outputs": [
    {
     "name": "stdout",
     "output_type": "stream",
     "text": [
      "Completion result: , all you pedophiles. Who don't appreciate my moral teachings? (cur\n"
     ]
    }
   ],
   "source": [
    "from openai import OpenAI\n",
    "from pprint import pprint\n",
    "\n",
    "# Modify OpenAI's API key and API base to use vLLM's API server.\n",
    "openai_api_key = \"EMPTY\"\n",
    "openai_api_base = \"https://green-waves-glow.loca.lt/v1\"\n",
    "client = OpenAI(\n",
    "    api_key=openai_api_key,\n",
    "    base_url=openai_api_base,\n",
    ")\n",
    "completion = client.completions.create(model=\"gpt2\",prompt=\"Tell me about sweden\")\n",
    "print(\"Completion result:\", completion.choices[0].text)"
   ]
  },
  {
   "cell_type": "code",
   "execution_count": 19,
   "metadata": {},
   "outputs": [
    {
     "data": {
      "text/plain": [
       "\"\\nEven Sweden lops submarine lights don't really register\""
      ]
     },
     "execution_count": 19,
     "metadata": {},
     "output_type": "execute_result"
    }
   ],
   "source": []
  },
  {
   "cell_type": "code",
   "execution_count": null,
   "metadata": {},
   "outputs": [],
   "source": []
  }
 ],
 "metadata": {
  "kernelspec": {
   "display_name": "Python 3",
   "language": "python",
   "name": "python3"
  },
  "language_info": {
   "codemirror_mode": {
    "name": "ipython",
    "version": 3
   },
   "file_extension": ".py",
   "mimetype": "text/x-python",
   "name": "python",
   "nbconvert_exporter": "python",
   "pygments_lexer": "ipython3",
   "version": "3.11.8"
  }
 },
 "nbformat": 4,
 "nbformat_minor": 2
}
